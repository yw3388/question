{
 "cells": [
  {
   "cell_type": "markdown",
   "metadata": {},
   "source": [
    "传送带上第i个包裹weights[i]，每天按照重量顺序上装，不超过船重量，返回D天将传送带上所有包裹送达船的最低运载能力\n",
    "船在5天送达\n",
    "\n",
    "return min weights of ship\n",
    "\n",
    "1，2， 3， 4， 5\n",
    "\n",
    "6， 7\n",
    "\n",
    "8\n",
    "\n",
    "9\n",
    "\n",
    "10\n"
   ]
  },
  {
   "cell_type": "code",
   "execution_count": 70,
   "metadata": {},
   "outputs": [],
   "source": [
    "weights = [1, 2, 3, 4, 5, 6, 7, 8, 9, 10]\n",
    "\n",
    "\n",
    "#Input weights, D = 5\n",
    "\n",
    "#output: 15\n"
   ]
  },
  {
   "cell_type": "code",
   "execution_count": null,
   "metadata": {},
   "outputs": [],
   "source": [
    "#base case：1天：sum（weights）；n天，max（weights）"
   ]
  },
  {
   "cell_type": "code",
   "execution_count": null,
   "metadata": {},
   "outputs": [],
   "source": [
    "#bisect sum(weights) to max(weights)\n",
    "#cumulative sum (use index to mark each day's progress) <= value(mid)"
   ]
  },
  {
   "cell_type": "code",
   "execution_count": 55,
   "metadata": {},
   "outputs": [
    {
     "data": {
      "text/plain": [
       "'\\ndef full(mid, weights, D):\\n    index = 0\\n    for d in range(0, D):\\n        max_cum = mid\\n        while index < len(weights) and max_cum > weights[index]:\\n            max_cum -= weights[index]\\n            index += 1\\n    return index == len(weights)-1\\n        '"
      ]
     },
     "execution_count": 55,
     "metadata": {},
     "output_type": "execute_result"
    }
   ],
   "source": [
    "def bisect(weights, D):\n",
    "    left, right = max(weights), sum(weights) + 1\n",
    "    while left <= right:\n",
    "        mid = left + (right - left)//2\n",
    "        print(left)\n",
    "        print(mid)\n",
    "        if full(mid, weights, D):\n",
    "            #too large so make right as mid\n",
    "            right = mid -1\n",
    "            \n",
    "        else:\n",
    "            left = mid + 1\n",
    "    return left\n",
    "\n",
    "\n",
    "def full(mid, weights, D):\n",
    "    \n",
    "    index = 0\n",
    "    for d in range(D):\n",
    "        print('day' + str(d))\n",
    "        max_cum = mid\n",
    "        while index < len(weights) and max_cum >= weights[index]:\n",
    "            max_cum -= weights[index]\n",
    "            index += 1\n",
    "            #for a for loop, index is length of weights, return True\n",
    "            if index == len(weights):\n",
    "                return True\n",
    "    return False\n",
    "\n",
    "\n",
    "\n",
    "\n",
    "\n",
    "\n"
   ]
  },
  {
   "cell_type": "code",
   "execution_count": 78,
   "metadata": {},
   "outputs": [],
   "source": [
    "def full(mid, weights, D):\n",
    "    index = 0\n",
    "    for d in range(0, D):\n",
    "        cum_sum = 0\n",
    "        print(index)\n",
    "        while index < len(weights) and cum_sum + weights[index] <= mid:\n",
    "            cum_sum += weights[index]\n",
    "            index += 1\n",
    "            \n",
    "            if index == len(weights):\n",
    "                return True\n",
    "    return False\n",
    "    \n",
    "        "
   ]
  },
  {
   "cell_type": "code",
   "execution_count": 80,
   "metadata": {},
   "outputs": [
    {
     "name": "stdout",
     "output_type": "stream",
     "text": [
      "0\n",
      "5\n",
      "7\n",
      "8\n",
      "9\n"
     ]
    },
    {
     "data": {
      "text/plain": [
       "True"
      ]
     },
     "execution_count": 80,
     "metadata": {},
     "output_type": "execute_result"
    }
   ],
   "source": [
    "full(15, weights, 5)"
   ]
  },
  {
   "cell_type": "code",
   "execution_count": 56,
   "metadata": {},
   "outputs": [
    {
     "name": "stdout",
     "output_type": "stream",
     "text": [
      "10\n",
      "33\n",
      "day0\n",
      "day1\n",
      "10\n",
      "21\n",
      "day0\n",
      "day1\n",
      "day2\n",
      "10\n",
      "15\n",
      "day0\n",
      "day1\n",
      "day2\n",
      "day3\n",
      "day4\n",
      "10\n",
      "12\n",
      "day0\n",
      "day1\n",
      "day2\n",
      "day3\n",
      "day4\n",
      "13\n",
      "13\n",
      "day0\n",
      "day1\n",
      "day2\n",
      "day3\n",
      "day4\n",
      "14\n",
      "14\n",
      "day0\n",
      "day1\n",
      "day2\n",
      "day3\n",
      "day4\n"
     ]
    },
    {
     "data": {
      "text/plain": [
       "15"
      ]
     },
     "execution_count": 56,
     "metadata": {},
     "output_type": "execute_result"
    }
   ],
   "source": [
    "bisect(weights, 5)"
   ]
  },
  {
   "cell_type": "code",
   "execution_count": 7,
   "metadata": {},
   "outputs": [],
   "source": [
    "def dd(weights, D):\n",
    "    def load_d(mid, weights, D):\n",
    "        total_weight = 0\n",
    "        for n in weights:\n",
    "            total_weight += n\n",
    "            D -= 0\n",
    "        return total_weight <= mid\n",
    "    \n",
    "    left, right = 0, max(weights)\n",
    "    mid = left + (right - left)//2\n",
    "\n",
    "    if load_d(mid, weights, D):\n",
    "        left = mid\n",
    "    else:\n",
    "        right = mid -1\n",
    "    return \n",
    "\n",
    "        "
   ]
  },
  {
   "cell_type": "code",
   "execution_count": 8,
   "metadata": {},
   "outputs": [
    {
     "data": {
      "text/plain": [
       "0"
      ]
     },
     "execution_count": 8,
     "metadata": {},
     "output_type": "execute_result"
    }
   ],
   "source": [
    "dd(weights, 5)"
   ]
  },
  {
   "cell_type": "code",
   "execution_count": null,
   "metadata": {},
   "outputs": [],
   "source": []
  }
 ],
 "metadata": {
  "kernelspec": {
   "display_name": "Python 3",
   "language": "python",
   "name": "python3"
  },
  "language_info": {
   "codemirror_mode": {
    "name": "ipython",
    "version": 3
   },
   "file_extension": ".py",
   "mimetype": "text/x-python",
   "name": "python",
   "nbconvert_exporter": "python",
   "pygments_lexer": "ipython3",
   "version": "3.8.3"
  }
 },
 "nbformat": 4,
 "nbformat_minor": 4
}
